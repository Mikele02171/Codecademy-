{
 "cells": [
  {
   "cell_type": "markdown",
   "id": "6f29ce19",
   "metadata": {},
   "source": [
    "## Python Control Flow: Medical Insurance Project"
   ]
  },
  {
   "cell_type": "code",
   "execution_count": 1,
   "id": "ec53d366",
   "metadata": {},
   "outputs": [
    {
     "name": "stdout",
     "output_type": "stream",
     "text": [
      "Keanu's Estimated Insurance Cost: 20247 dollars.\n",
      "To lower your cost, you should quitting smoking.\n",
      "Michael's Estimated Insurance Cost: 7372 dollars.\n",
      "Smoking is not an issue for you.\n"
     ]
    }
   ],
   "source": [
    "# Add your code here\n",
    "def analyze_smoker(smoker_status):\n",
    "    if smoker_status == 1:\n",
    "        print(\"To lower your cost, you should quitting smoking.\")\n",
    "    else:\n",
    "        print(\"Smoking is not an issue for you.\")\n",
    "\n",
    "\n",
    " \n",
    "# Function to estimate insurance cost:\n",
    "def estimate_insurance_cost(name, age, sex, num_of_children, smoker):\n",
    "    estimated_cost = 400*age - 128*sex + 425*num_of_children + 10000*smoker - 2500\n",
    "    print(name + \"'s Estimated Insurance Cost: \" + str(estimated_cost) + \" dollars.\")\n",
    "    is_smoker = analyze_smoker(smoker)\n",
    "    return estimated_cost\n",
    " \n",
    "# Estimate Keanu's insurance cost\n",
    "keanu_insurance_cost = estimate_insurance_cost(name = 'Keanu', age = 29, sex = 1, num_of_children = 3, smoker = 1)\n",
    "\n",
    "Michael_insurance_cost = estimate_insurance_cost(name='Michael',age=25,sex=1,num_of_children = 0, smoker = 0)"
   ]
  }
 ],
 "metadata": {
  "kernelspec": {
   "display_name": "Python 3 (ipykernel)",
   "language": "python",
   "name": "python3"
  },
  "language_info": {
   "codemirror_mode": {
    "name": "ipython",
    "version": 3
   },
   "file_extension": ".py",
   "mimetype": "text/x-python",
   "name": "python",
   "nbconvert_exporter": "python",
   "pygments_lexer": "ipython3",
   "version": "3.9.7"
  }
 },
 "nbformat": 4,
 "nbformat_minor": 5
}
