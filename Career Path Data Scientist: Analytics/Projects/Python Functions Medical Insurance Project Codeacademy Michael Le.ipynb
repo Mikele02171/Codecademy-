{
 "cells": [
  {
   "cell_type": "code",
   "execution_count": 1,
   "id": "a014c6ea",
   "metadata": {},
   "outputs": [
    {
     "name": "stdout",
     "output_type": "stream",
     "text": [
      "The estimated insurance cost for Maria is 5469.0 dollars.\n",
      "The estimated insurance cost for Maria is 5469.0 dollars.\n",
      "The estimated insurance cost for Omar is 28336.0 dollars.\n",
      "The estimated insurance cost for Omar is 28336.0 dollars.\n",
      "The estimated insurance cost for Michael is 3316.0 dollars.\n",
      "The difference in insurance cost is -25020.0 dollars.\n",
      "The difference in insurance cost is -2153.0 dollars.\n"
     ]
    }
   ],
   "source": [
    "#EXTRA I DEFINING THE FUNCITON \n",
    "def difference_insurance_cost(You,Person):\n",
    "  difference = You-Person\n",
    "  print(f\"The difference in insurance cost is {difference} dollars.\")\n",
    "  return difference\n",
    "\n",
    "# Create calculate_insurance_cost() function below: \n",
    "def calculate_insurance_cost(name,age,sex,bmi,num_of_children,smoker):\n",
    "  estimated_cost = 250*age - 128*sex + 370*bmi + 425*num_of_children + 24000*smoker - 12500\n",
    "  print(f'The estimated insurance cost for {name} is {estimated_cost} dollars.')\n",
    "  return estimated_cost\n",
    "\n",
    "\n",
    "# Initial variables for Maria \n",
    "age = 28\n",
    "sex = 0  \n",
    "bmi = 26.2\n",
    "num_of_children = 3\n",
    "smoker = 0  \n",
    "\n",
    "# Estimate Maria's insurance cost\n",
    "insurance_cost = 250*age - 128*sex + 370*bmi + 425*num_of_children + 24000*smoker - 12500\n",
    "\n",
    "print(\"The estimated insurance cost for Maria is \" + str(insurance_cost) + \" dollars.\") \n",
    "\n",
    "maria_insurance_cost = calculate_insurance_cost(name = 'Maria' ,age=28,sex=0,bmi=26.2,num_of_children = 3, smoker=0)\n",
    "\n",
    "\n",
    "\n",
    "# Initial variables for Omar\n",
    "age = 35\n",
    "sex = 1 \n",
    "bmi = 22.2\n",
    "num_of_children = 0\n",
    "smoker = 1  \n",
    "\n",
    "# Estimate Omar's insurance cost \n",
    "insurance_cost = 250*age - 128*sex + 370*bmi + 425*num_of_children + 24000*smoker - 12500\n",
    "\n",
    "print(\"The estimated insurance cost for Omar is \" + str(insurance_cost) + \" dollars.\")\n",
    "\n",
    "omar_insurance_cost = calculate_insurance_cost(name = 'Omar' ,age=35,sex=1,bmi=22.2,num_of_children=0,smoker=1)\n",
    "\n",
    "#Mine insurance cost \n",
    "\n",
    "Michael_insurance_cost = calculate_insurance_cost(name = 'Michael' ,age=25,sex=1,bmi=26.2,num_of_children=0,smoker=0)\n",
    "\n",
    "#EXTRA II, calling the function\n",
    "Michael_Omar = difference_insurance_cost(Michael_insurance_cost,omar_insurance_cost)\n",
    "\n",
    "Michael_Maria = difference_insurance_cost(Michael_insurance_cost,maria_insurance_cost)"
   ]
  },
  {
   "cell_type": "code",
   "execution_count": null,
   "id": "42c61e8a",
   "metadata": {},
   "outputs": [],
   "source": []
  },
  {
   "cell_type": "code",
   "execution_count": null,
   "id": "6a66b901",
   "metadata": {},
   "outputs": [],
   "source": []
  }
 ],
 "metadata": {
  "kernelspec": {
   "display_name": "Python 3 (ipykernel)",
   "language": "python",
   "name": "python3"
  },
  "language_info": {
   "codemirror_mode": {
    "name": "ipython",
    "version": 3
   },
   "file_extension": ".py",
   "mimetype": "text/x-python",
   "name": "python",
   "nbconvert_exporter": "python",
   "pygments_lexer": "ipython3",
   "version": "3.9.7"
  }
 },
 "nbformat": 4,
 "nbformat_minor": 5
}
